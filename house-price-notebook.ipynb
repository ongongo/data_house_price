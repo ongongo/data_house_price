{
 "cells": [
  {
   "cell_type": "code",
   "execution_count": 1,
   "id": "89b73876",
   "metadata": {
    "_cell_guid": "b1076dfc-b9ad-4769-8c92-a6c4dae69d19",
    "_uuid": "8f2839f25d086af736a60e9eeb907d3b93b6e0e5",
    "execution": {
     "iopub.execute_input": "2025-04-30T07:41:05.985498Z",
     "iopub.status.busy": "2025-04-30T07:41:05.985189Z",
     "iopub.status.idle": "2025-04-30T07:41:07.899934Z",
     "shell.execute_reply": "2025-04-30T07:41:07.898849Z"
    },
    "papermill": {
     "duration": 1.919607,
     "end_time": "2025-04-30T07:41:07.901508",
     "exception": false,
     "start_time": "2025-04-30T07:41:05.981901",
     "status": "completed"
    },
    "tags": []
   },
   "outputs": [
    {
     "name": "stdout",
     "output_type": "stream",
     "text": [
      "/kaggle/input/house-prices-advanced-regression-techniques/sample_submission.csv\n",
      "/kaggle/input/house-prices-advanced-regression-techniques/data_description.txt\n",
      "/kaggle/input/house-prices-advanced-regression-techniques/train.csv\n",
      "/kaggle/input/house-prices-advanced-regression-techniques/test.csv\n"
     ]
    }
   ],
   "source": [
    "# This Python 3 environment comes with many helpful analytics libraries installed\n",
    "# It is defined by the kaggle/python Docker image: https://github.com/kaggle/docker-python\n",
    "# For example, here's several helpful packages to load\n",
    "\n",
    "import numpy as np # linear algebra\n",
    "import pandas as pd # data processing, CSV file I/O (e.g. pd.read_csv)\n",
    "\n",
    "# Input data files are available in the read-only \"../input/\" directory\n",
    "# For example, running this (by clicking run or pressing Shift+Enter) will list all files under the input directory\n",
    "\n",
    "import os\n",
    "for dirname, _, filenames in os.walk('/kaggle/input'):\n",
    "    for filename in filenames:\n",
    "        print(os.path.join(dirname, filename))\n",
    "\n",
    "# You can write up to 20GB to the current directory (/kaggle/working/) that gets preserved as output when you create a version using \"Save & Run All\" \n",
    "# You can also write temporary files to /kaggle/temp/, but they won't be saved outside of the current session"
   ]
  },
  {
   "cell_type": "code",
   "execution_count": 2,
   "id": "e5c3adaf",
   "metadata": {
    "execution": {
     "iopub.execute_input": "2025-04-30T07:41:07.906365Z",
     "iopub.status.busy": "2025-04-30T07:41:07.905972Z",
     "iopub.status.idle": "2025-04-30T07:41:15.017818Z",
     "shell.execute_reply": "2025-04-30T07:41:15.016817Z"
    },
    "papermill": {
     "duration": 7.115914,
     "end_time": "2025-04-30T07:41:15.019412",
     "exception": false,
     "start_time": "2025-04-30T07:41:07.903498",
     "status": "completed"
    },
    "tags": []
   },
   "outputs": [
    {
     "name": "stdout",
     "output_type": "stream",
     "text": [
      "Validation MAE: 17575.47\n",
      "Validation Accuracy: 90.17%\n",
      "R² Score: 0.8912\n",
      "✅ Submission file created!\n"
     ]
    }
   ],
   "source": [
    "import pandas as pd\n",
    "import numpy as np\n",
    "from sklearn.model_selection import train_test_split\n",
    "from sklearn.ensemble import RandomForestRegressor\n",
    "from sklearn.preprocessing import LabelEncoder\n",
    "from sklearn.metrics import mean_absolute_error, r2_score\n",
    "\n",
    "# Load datasets\n",
    "train_data = pd.read_csv(\"/kaggle/input/house-prices-advanced-regression-techniques/train.csv\")\n",
    "test_data = pd.read_csv(\"/kaggle/input/house-prices-advanced-regression-techniques/test.csv\")\n",
    "\n",
    "# Drop rows with missing target\n",
    "train_data = train_data.dropna(subset=[\"SalePrice\"])\n",
    "\n",
    "# Separate target variable\n",
    "y = train_data[\"SalePrice\"]\n",
    "X = train_data.drop(columns=[\"Id\", \"SalePrice\"])\n",
    "test_ids = test_data[\"Id\"]\n",
    "test_data = test_data.drop(columns=[\"Id\"])\n",
    "\n",
    "# Identify categorical & numerical features\n",
    "categorical_features = X.select_dtypes(include=[\"object\"]).columns\n",
    "numerical_features = X.select_dtypes(include=[np.number]).columns\n",
    "\n",
    "# Handle missing values for numerical features\n",
    "X[numerical_features] = X[numerical_features].fillna(X[numerical_features].median())\n",
    "test_data[numerical_features] = test_data[numerical_features].fillna(test_data[numerical_features].median())\n",
    "\n",
    "# Handle missing values for categorical features\n",
    "X[categorical_features] = X[categorical_features].fillna(\"Missing\")\n",
    "test_data[categorical_features] = test_data[categorical_features].fillna(\"Missing\")\n",
    "\n",
    "# Label Encode Categorical Variables\n",
    "label_encoders = {}  # Dictionary to store encoders for each categorical column\n",
    "for col in categorical_features:\n",
    "    le = LabelEncoder()\n",
    "    \n",
    "    # Combine train and test data before fitting to avoid unseen labels issue\n",
    "    le.fit(pd.concat([X[col], test_data[col]], axis=0))\n",
    "    \n",
    "    X[col] = le.transform(X[col])\n",
    "    test_data[col] = le.transform(test_data[col])\n",
    "    \n",
    "    # Store the encoder\n",
    "    label_encoders[col] = le\n",
    "\n",
    "# Split data into training and validation set\n",
    "X_train, X_valid, y_train, y_valid = train_test_split(X, y, test_size=0.2, random_state=42)\n",
    "\n",
    "# Train Random Forest Model\n",
    "model = RandomForestRegressor(n_estimators=300, max_depth=15, min_samples_split=5, random_state=42)\n",
    "model.fit(X_train, y_train)\n",
    "\n",
    "# Predict & evaluate\n",
    "y_pred = model.predict(X_valid)\n",
    "\n",
    "# Compute MAE and Accuracy\n",
    "mae = mean_absolute_error(y_valid, y_pred)\n",
    "mean_actual = np.mean(y_valid)\n",
    "accuracy = 100 - (mae / mean_actual * 100)\n",
    "\n",
    "# Compute R² Score\n",
    "r2 = r2_score(y_valid, y_pred)\n",
    "\n",
    "# Print results\n",
    "print(f\"Validation MAE: {mae:.2f}\")\n",
    "print(f\"Validation Accuracy: {accuracy:.2f}%\")\n",
    "print(f\"R² Score: {r2:.4f}\")\n",
    "\n",
    "# Make predictions on test set\n",
    "predictions = model.predict(test_data)\n",
    "\n",
    "# Prepare submission file\n",
    "submission = pd.DataFrame({\"Id\": test_ids, \"SalePrice\": predictions})\n",
    "submission.to_csv(\"submission.csv\", index=False)\n",
    "print(\"✅ Submission file created!\")"
   ]
  },
  {
   "cell_type": "code",
   "execution_count": null,
   "id": "6c9bfb9c",
   "metadata": {
    "papermill": {
     "duration": 0.00141,
     "end_time": "2025-04-30T07:41:15.022695",
     "exception": false,
     "start_time": "2025-04-30T07:41:15.021285",
     "status": "completed"
    },
    "tags": []
   },
   "outputs": [],
   "source": []
  }
 ],
 "metadata": {
  "kaggle": {
   "accelerator": "none",
   "dataSources": [
    {
     "databundleVersionId": 868283,
     "sourceId": 5407,
     "sourceType": "competition"
    }
   ],
   "dockerImageVersionId": 31012,
   "isGpuEnabled": false,
   "isInternetEnabled": true,
   "language": "python",
   "sourceType": "notebook"
  },
  "kernelspec": {
   "display_name": "Python 3 (ipykernel)",
   "language": "python",
   "name": "python3"
  },
  "language_info": {
   "codemirror_mode": {
    "name": "ipython",
    "version": 3
   },
   "file_extension": ".py",
   "mimetype": "text/x-python",
   "name": "python",
   "nbconvert_exporter": "python",
   "pygments_lexer": "ipython3",
   "version": "3.12.1"
  },
  "papermill": {
   "default_parameters": {},
   "duration": 14.777325,
   "end_time": "2025-04-30T07:41:15.642939",
   "environment_variables": {},
   "exception": null,
   "input_path": "__notebook__.ipynb",
   "output_path": "__notebook__.ipynb",
   "parameters": {},
   "start_time": "2025-04-30T07:41:00.865614",
   "version": "2.6.0"
  }
 },
 "nbformat": 4,
 "nbformat_minor": 5
}
